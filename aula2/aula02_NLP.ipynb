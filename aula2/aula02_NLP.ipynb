{
 "cells": [
  {
   "cell_type": "code",
   "execution_count": 14,
   "metadata": {},
   "outputs": [],
   "source": [
    "# Árvore de decisão\n",
    "\n",
    "import telebot\n",
    "from decouple import config\n",
    "import time"
   ]
  },
  {
   "cell_type": "code",
   "execution_count": null,
   "metadata": {},
   "outputs": [],
   "source": [
    "token = config('TOKEN_BOT')\n",
    "bot = telebot.TeleBot(token)"
   ]
  },
  {
   "cell_type": "code",
   "execution_count": null,
   "metadata": {},
   "outputs": [],
   "source": [
    "# PARTE1: Iniciar a conversa com o BOT\n",
    "\n",
    "@bot.message_handler(commands=['start'])\n",
    "def start(message):\n",
    "    bot.send_message(message.chat.id, \"fala, tudo bem com você ?\", timeout=120)\n",
    "\n",
    "@bot.message_handler(regexp='iniciar')\n",
    "def iniciar(message):\n",
    "    bot.send_message(message.chat.id, \"fala, tudo bem com você ?\", timeout=120)\n",
    "\n",
    "@bot.message_handler(regexp=r'tudo|td')\n",
    "def pergunta(message):\n",
    "    bot.send_message(message.chat.id, \"Bora fazer o download do arquivo? Digite Bora, para receber o aquivo ou digite Depois, para dexar pra depois\", timeout=120)    \n",
    "\n",
    "\n",
    "#PARTE2: Download ou Playlist\n",
    "\n",
    "@bot.message_handler(regexp='bora')\n",
    "def download(message):\n",
    "    doc = open(\"dadoteca.pdf\", \"rb\")\n",
    "    bot.send_message(message.chat.id, \"Aqui esta seu livro\")\n",
    "    time.sleep(2)\n",
    "    bot.send_document(message.chat.id, doc, timeout=120)\n",
    "    time.sleep(4)\n",
    "    bot.send_message(message.chat.id, \"Muito obragado, aproveite o livro. Gostaria de começa denovo ? digite iniciar\")\n",
    "    time.sleep(2)\n",
    "    bot.send_message(message.chat.id, \"Valeu e ate mais\")\n",
    "\n",
    "\n",
    "@bot.message_handler(regexp='depois')\n",
    "def convencimento(message):\n",
    "    time.sleep(6)\n",
    "    bot.send_message(message.chat.id, \"E serio você não vai quero, vou de dar mais uma oportulidade bora baixa, E so digitar (bora) e você tera o aquivo, do contario e so digitar (tchau) e até mais.\")\n",
    "\n",
    "@bot.message_handler(regexp='tchau')\n",
    "def tchau(message):\n",
    "    time.sleep(2)\n",
    "    bot.send_message(message.chat.id, \"Teimosão, hein!\")\n",
    "    time.sleep(4)\n",
    "    bot.send_message(message.chat.id, \"Se você gostaria de ver mais so livros olhe o video do melhor profeco de bot do Youtube, no link https://www.youtube.com/watch?v=KZCMFAc3UAM\")\n",
    "    time.sleep(3)\n",
    "    bot.send_message(message.chat.id, \"Tchau, amigo até mais. Caso mude de ideia, basta digitar iniciar o papo e baixar o aquivo.\")\n",
    "\n",
    "bot.polling() #sondagem, verificar se há mensagens"
   ]
  }
 ],
 "metadata": {
  "kernelspec": {
   "display_name": "Python 3",
   "language": "python",
   "name": "python3"
  },
  "language_info": {
   "codemirror_mode": {
    "name": "ipython",
    "version": 3
   },
   "file_extension": ".py",
   "mimetype": "text/x-python",
   "name": "python",
   "nbconvert_exporter": "python",
   "pygments_lexer": "ipython3",
   "version": "3.11.3"
  },
  "orig_nbformat": 4
 },
 "nbformat": 4,
 "nbformat_minor": 2
}
