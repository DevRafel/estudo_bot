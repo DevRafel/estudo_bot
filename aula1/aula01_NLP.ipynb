{
 "cells": [
  {
   "cell_type": "code",
   "execution_count": 1,
   "metadata": {},
   "outputs": [
    {
     "name": "stdout",
     "output_type": "stream",
     "text": [
      "Eu PRON\n",
      "estou AUX\n",
      "aprendendo VERB\n",
      "a SCONJ\n",
      "utilizar VERB\n",
      "chatbots NOUN\n",
      ". PUNCT\n"
     ]
    }
   ],
   "source": [
    "import spacy\n",
    "\n",
    "nlp = spacy.load(\"pt_core_news_sm\")\n",
    "\n",
    "#EXEMPLO 1 - tokenização\n",
    "\n",
    "texto = nlp(u'Eu estou aprendendo a utilizar chatbots.')\n",
    "\n",
    "for token in texto:\n",
    "    print(token.text, token.pos_)"
   ]
  },
  {
   "cell_type": "code",
   "execution_count": 2,
   "metadata": {},
   "outputs": [
    {
     "name": "stdout",
     "output_type": "stream",
     "text": [
      "Texto: O  - Forma raiz: o Tipo da palavra: DET É letra: True\n",
      "Texto: canal  - Forma raiz: canal Tipo da palavra: NOUN É letra: True\n",
      "Texto: do  - Forma raiz: de o Tipo da palavra: ADP É letra: True\n",
      "Texto: Youtube  - Forma raiz: Youtube Tipo da palavra: PROPN É letra: True\n",
      "Texto: do  - Forma raiz: de o Tipo da palavra: ADP É letra: True\n",
      "Texto: \"  - Forma raiz: \" Tipo da palavra: PROPN É letra: False\n",
      "Texto: Prof  - Forma raiz: Prof Tipo da palavra: PROPN É letra: True\n",
      "Texto: .  - Forma raiz: . Tipo da palavra: PUNCT É letra: False\n",
      "Texto: Clauidio  - Forma raiz: clauidio Tipo da palavra: PROPN É letra: True\n",
      "Texto: Bonel  - Forma raiz: Bonel Tipo da palavra: PROPN É letra: True\n",
      "Texto: \"  - Forma raiz: \" Tipo da palavra: NUM É letra: False\n",
      "Texto: está  - Forma raiz: estar Tipo da palavra: AUX É letra: True\n",
      "Texto: chegando  - Forma raiz: chegar Tipo da palavra: VERB É letra: True\n",
      "Texto: a  - Forma raiz: a Tipo da palavra: ADP É letra: True\n",
      "Texto: 11.000  - Forma raiz: 11.000 Tipo da palavra: NUM É letra: False\n",
      "Texto: inscritos  - Forma raiz: inscrito Tipo da palavra: NOUN É letra: True\n",
      "Texto: .  - Forma raiz: . Tipo da palavra: PUNCT É letra: False\n"
     ]
    }
   ],
   "source": [
    "#EXEMPLO 2 - Mais alguns atributos do tokn=en\n",
    "\n",
    "texto2 = nlp(u'O canal do Youtube do \"Prof. Clauidio Bonel\" está chegando a 11.000 inscritos.')\n",
    "\n",
    "for token in texto2:\n",
    "    print(\"Texto:\",token.text,\n",
    "          \" - Forma raiz:\", token.lemma_,\n",
    "          \"Tipo da palavra:\", token.pos_,\n",
    "          \"É letra:\", token.is_alpha)"
   ]
  },
  {
   "cell_type": "code",
   "execution_count": 3,
   "metadata": {},
   "outputs": [
    {
     "name": "stdout",
     "output_type": "stream",
     "text": [
      "A palavra tudo é 100.0% siminarl a palavra tudo\n",
      "A palavra tudo é 29.7% siminarl a palavra bem\n",
      "A palavra bem é 29.7% siminarl a palavra tudo\n",
      "A palavra bem é 100.0% siminarl a palavra bem\n"
     ]
    },
    {
     "name": "stderr",
     "output_type": "stream",
     "text": [
      "C:\\Users\\rafae\\AppData\\Local\\Temp\\ipykernel_15144\\2945722124.py:9: UserWarning: [W007] The model you're using has no word vectors loaded, so the result of the Token.similarity method will be based on the tagger, parser and NER, which may not give useful similarity judgements. This may happen if you're using one of the small models, e.g. `en_core_web_sm`, which don't ship with word vectors and only use context-sensitive tensors. You can always add your own word vectors, or use one of the larger models instead if available.\n",
      "  similaridade = round((token1.similarity(token2) * 100),2)\n"
     ]
    }
   ],
   "source": [
    "#Exemplo 3 - Buscando semelhanças\n",
    "\n",
    "#Farse usada : Quero aprendizado e conhecimento\n",
    "texto3 = input(\"como posso te ajudar no dia de hoje?\")\n",
    "texto3 = nlp(texto3)\n",
    "\n",
    "for token1 in texto3:\n",
    "    for token2 in texto3:\n",
    "        similaridade = round((token1.similarity(token2) * 100),2)\n",
    "        print(\"A palavra {} é {}% siminarl a palavra {}\".format(token1.text,similaridade,token2.text))"
   ]
  },
  {
   "cell_type": "code",
   "execution_count": 5,
   "metadata": {},
   "outputs": [
    {
     "name": "stdout",
     "output_type": "stream",
     "text": [
      "Não encontrei sua solicitação, Por favor, refaça sua solicitação\n",
      "Não encontrei sua solicitação, Por favor, refaça sua solicitação\n"
     ]
    },
    {
     "name": "stderr",
     "output_type": "stream",
     "text": [
      "C:\\Users\\rafae\\AppData\\Local\\Temp\\ipykernel_15144\\3035748656.py:8: UserWarning: [W007] The model you're using has no word vectors loaded, so the result of the Token.similarity method will be based on the tagger, parser and NER, which may not give useful similarity judgements. This may happen if you're using one of the small models, e.g. `en_core_web_sm`, which don't ship with word vectors and only use context-sensitive tensors. You can always add your own word vectors, or use one of the larger models instead if available.\n",
      "  similaridade = round((token.similarity(texto_comparativo) * 100), 2)\n"
     ]
    }
   ],
   "source": [
    "#Exemplo 4 - Buscando similaridade e comparando com as regras do chatbot\n",
    "\n",
    "texto4 = input(\"como posso te ajudar no dia de hoje?\")\n",
    "texto4 = nlp(texto4)\n",
    "texto_comparativo = nlp(\"conhecimento\")\n",
    "\n",
    "for token in texto4:\n",
    "    similaridade = round((token.similarity(texto_comparativo) * 100), 2)\n",
    "    if similaridade == 100:\n",
    "        print(\"A palavra {} é {}% siminarl a palavra, conhecimento\".format(token.text,similaridade))\n",
    "    elif similaridade >=20 and similaridade < 100:\n",
    "        pergunta_similidade = input(\"Você está em busca de conhecimento? (S para sim e N para não)\")\n",
    "        if pergunta_similidade.upper() == \"S\":\n",
    "            print(\"A palavra {} é {}% siminarl a palavra, conhecimento\".format(token.text,similaridade))\n",
    "        else:\n",
    "            print(\"Ok Por favor, refaça sua solicitação.\")\n",
    "    else:\n",
    "        print(\"Não encontrei sua solicitação, Por favor, refaça sua solicitação\")"
   ]
  }
 ],
 "metadata": {
  "kernelspec": {
   "display_name": "Python 3",
   "language": "python",
   "name": "python3"
  },
  "language_info": {
   "codemirror_mode": {
    "name": "ipython",
    "version": 3
   },
   "file_extension": ".py",
   "mimetype": "text/x-python",
   "name": "python",
   "nbconvert_exporter": "python",
   "pygments_lexer": "ipython3",
   "version": "3.11.3"
  },
  "orig_nbformat": 4
 },
 "nbformat": 4,
 "nbformat_minor": 2
}
